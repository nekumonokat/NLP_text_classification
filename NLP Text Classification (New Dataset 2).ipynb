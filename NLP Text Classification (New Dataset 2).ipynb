{
 "cells": [
  {
   "cell_type": "markdown",
   "id": "d423c27a",
   "metadata": {},
   "source": [
    "<h2><center>NLP Text Classification</h2>"
   ]
  },
  {
   "cell_type": "markdown",
   "id": "1f3d0067",
   "metadata": {},
   "source": [
    "## I. Introduction"
   ]
  },
  {
   "cell_type": "markdown",
   "id": "1101e842",
   "metadata": {},
   "source": [
    "### 1.1 Domain-specific area\n",
    "This project provides an analysis of textual data on Twitter to accurately detect and classify sentiment trends in Tweets using sentiment analysis techniques. This would provide businesses with a tool that takes in a corpus of text for training to analyse the sentiment of tweets and assist in understanding the needs of their target audience."
   ]
  },
  {
   "cell_type": "markdown",
   "id": "72286743",
   "metadata": {},
   "source": [
    "### 1.2 Objectives"
   ]
  },
  {
   "cell_type": "markdown",
   "id": "1afd0cf1",
   "metadata": {},
   "source": [
    "### 1.3 Dataset\n",
    "To begin this project, an extensive amount of textual data corpora is required. After researching large datasets of Tweets, Twitter Tweets Sentiment Dataset on Kaggle was proven to be the best for this project. With 27.5 thousand tweets extracted using the Twitter API, the authors have categorised each tweet to have either a positive, neutral or negative sentiment, which is beneficial for the algorithm in categorising harmful texts.\n",
    "\n",
    "The dataset consists of the textID, text (the original Tweets), selected_text (defined as the Tweets that do not have redundant information) and the sentiment of the tweet."
   ]
  },
  {
   "cell_type": "markdown",
   "id": "f381e0e6",
   "metadata": {},
   "source": [
    "### 1.4 Evaluation methodology"
   ]
  },
  {
   "cell_type": "markdown",
   "id": "7f7d3b22",
   "metadata": {},
   "source": [
    "## II. Implementation"
   ]
  },
  {
   "cell_type": "markdown",
   "id": "d2f69e39",
   "metadata": {},
   "source": [
    "### 2.1 Preparation of dataset"
   ]
  },
  {
   "cell_type": "markdown",
   "id": "38466cb4",
   "metadata": {},
   "source": [
    "#### Acquiring dataset\n",
    "The dataset on the collection of Tweets were acquired from Kaggle by downloading the CSV file. The owner of this dataset is M Yasser H. The code for importing the dataset is shown below:"
   ]
  },
  {
   "cell_type": "markdown",
   "id": "641807df",
   "metadata": {},
   "source": [
    "#### Importing libraries\n",
    "- **pandas library** was imported to process and handle datasets in Python. It is used to help write and read from CSV files while handling real-world messy data and processing them into a proper format\n",
    "\n",
    "- **numpy library** was imported to handle calculations and use numpy arrays for statistical calculations\n",
    "\n",
    "- **matplotlib library** was imported to plot the data and represent it graphically\n",
    "\n",
    "- **os library** was imported to have a way of using the operating system dependent functionalities, more specifically to save the dataset as a CSV\n",
    "\n",
    "- **stopwords library** was imported to have a library of the most common words in data to aid in stopwords removal\n",
    "\n",
    "- **collections.Counter library** is a dictionary subclass that counts the frequency of elements. This helps to check for additional common words being used\n",
    "\n",
    "- **ast library** was imported to convert a string that looked like a list to an actual list\n",
    "\n",
    "- **WordNetLemmatizer library** was imported to perform lemmatisation on words. It reduces words to its base or dictionary form, known as the lemma\n",
    "\n",
    "- **nltk.corpus library** was used to access contents of a diverse set of corpora"
   ]
  },
  {
   "cell_type": "code",
   "execution_count": 68,
   "id": "26cf64bb",
   "metadata": {},
   "outputs": [],
   "source": [
    "# The following block of code was self-written\n",
    "# dataframes\n",
    "import pandas as pd\n",
    "import numpy as np\n",
    "import matplotlib.pyplot as plt\n",
    "import os\n",
    "\n",
    "# text processing and analysis\n",
    "import nltk\n",
    "# stop words library\n",
    "from stop_words import get_stop_words\n",
    "# analysing text corpora\n",
    "from collections import Counter\n",
    "\n",
    "# modifying string to list\n",
    "import ast\n",
    "# stemming and lemmatisation\n",
    "from nltk.stem import WordNetLemmatizer\n",
    "# regular expressions\n",
    "import re\n",
    "\n",
    "# lexical analysis\n",
    "from nltk.tokenize import word_tokenize\n",
    "from nltk.probability import FreqDist"
   ]
  },
  {
   "cell_type": "markdown",
   "id": "43e59f38",
   "metadata": {},
   "source": [
    "#### Helper function\n",
    "As the dataset will be saved at each section for easier access to the CSV based on each progressive step, the saving step will be changed to a function."
   ]
  },
  {
   "cell_type": "code",
   "execution_count": 69,
   "id": "efd07a47",
   "metadata": {},
   "outputs": [],
   "source": [
    "# The following block of code was self-written\n",
    "def save_to_csv(df,file_path):\n",
    "    if not os.path.exists(file_path):\n",
    "        df.to_csv(file_path, index = False)\n",
    "        print('File saved successfully.')\n",
    "    else:\n",
    "        print('File already exists.')"
   ]
  },
  {
   "cell_type": "markdown",
   "id": "4b39c4f8",
   "metadata": {},
   "source": [
    "#### Importing dataset\n",
    "To check that the dataset is ready for cleaning and analysis, we will look at the first entry to check if there are headers. Since there are headers, and the dataset contains only relevant information, the text, and sentiment, the headers will just be modified to \"tweet\" and \"sentiment\" for better comprehension."
   ]
  },
  {
   "cell_type": "code",
   "execution_count": 70,
   "id": "6c6bb523",
   "metadata": {},
   "outputs": [
    {
     "data": {
      "text/html": [
       "<div>\n",
       "<style scoped>\n",
       "    .dataframe tbody tr th:only-of-type {\n",
       "        vertical-align: middle;\n",
       "    }\n",
       "\n",
       "    .dataframe tbody tr th {\n",
       "        vertical-align: top;\n",
       "    }\n",
       "\n",
       "    .dataframe thead th {\n",
       "        text-align: right;\n",
       "    }\n",
       "</style>\n",
       "<table border=\"1\" class=\"dataframe\">\n",
       "  <thead>\n",
       "    <tr style=\"text-align: right;\">\n",
       "      <th></th>\n",
       "      <th>textID</th>\n",
       "      <th>text</th>\n",
       "      <th>selected_text</th>\n",
       "      <th>sentiment</th>\n",
       "    </tr>\n",
       "  </thead>\n",
       "  <tbody>\n",
       "    <tr>\n",
       "      <th>0</th>\n",
       "      <td>cb774db0d1</td>\n",
       "      <td>I`d have responded, if I were going</td>\n",
       "      <td>I`d have responded, if I were going</td>\n",
       "      <td>neutral</td>\n",
       "    </tr>\n",
       "  </tbody>\n",
       "</table>\n",
       "</div>"
      ],
      "text/plain": [
       "       textID                                  text  \\\n",
       "0  cb774db0d1   I`d have responded, if I were going   \n",
       "\n",
       "                         selected_text sentiment  \n",
       "0  I`d have responded, if I were going   neutral  "
      ]
     },
     "execution_count": 70,
     "metadata": {},
     "output_type": "execute_result"
    }
   ],
   "source": [
    "# The following block of code was self-written\n",
    "df = pd.read_csv('datasets/twitter_sentiments.csv', nrows = 1)\n",
    "df"
   ]
  },
  {
   "cell_type": "code",
   "execution_count": 71,
   "id": "b98626b1",
   "metadata": {},
   "outputs": [
    {
     "data": {
      "text/html": [
       "<div>\n",
       "<style scoped>\n",
       "    .dataframe tbody tr th:only-of-type {\n",
       "        vertical-align: middle;\n",
       "    }\n",
       "\n",
       "    .dataframe tbody tr th {\n",
       "        vertical-align: top;\n",
       "    }\n",
       "\n",
       "    .dataframe thead th {\n",
       "        text-align: right;\n",
       "    }\n",
       "</style>\n",
       "<table border=\"1\" class=\"dataframe\">\n",
       "  <thead>\n",
       "    <tr style=\"text-align: right;\">\n",
       "      <th></th>\n",
       "      <th>tweet</th>\n",
       "      <th>sentiment</th>\n",
       "    </tr>\n",
       "  </thead>\n",
       "  <tbody>\n",
       "    <tr>\n",
       "      <th>0</th>\n",
       "      <td>I`d have responded, if I were going</td>\n",
       "      <td>neutral</td>\n",
       "    </tr>\n",
       "    <tr>\n",
       "      <th>1</th>\n",
       "      <td>Sooo SAD</td>\n",
       "      <td>negative</td>\n",
       "    </tr>\n",
       "    <tr>\n",
       "      <th>2</th>\n",
       "      <td>bullying me</td>\n",
       "      <td>negative</td>\n",
       "    </tr>\n",
       "    <tr>\n",
       "      <th>3</th>\n",
       "      <td>leave me alone</td>\n",
       "      <td>negative</td>\n",
       "    </tr>\n",
       "    <tr>\n",
       "      <th>4</th>\n",
       "      <td>Sons of ****,</td>\n",
       "      <td>negative</td>\n",
       "    </tr>\n",
       "  </tbody>\n",
       "</table>\n",
       "</div>"
      ],
      "text/plain": [
       "                                 tweet sentiment\n",
       "0  I`d have responded, if I were going   neutral\n",
       "1                             Sooo SAD  negative\n",
       "2                          bullying me  negative\n",
       "3                       leave me alone  negative\n",
       "4                        Sons of ****,  negative"
      ]
     },
     "execution_count": 71,
     "metadata": {},
     "output_type": "execute_result"
    }
   ],
   "source": [
    "# The following block of code was self-written\n",
    "tweets_df = pd.read_csv('datasets/twitter_sentiments.csv')\n",
    "tweets_df = tweets_df[['selected_text', 'sentiment']]\n",
    "tweets_df.columns = ['tweet', 'sentiment']\n",
    "tweets_df.head()"
   ]
  },
  {
   "cell_type": "markdown",
   "id": "4c8e1df4",
   "metadata": {},
   "source": [
    "### 2.2 Pre-processing\n",
    "Completed steps:\n",
    "- Removing NaN and duplicated entries\n",
    "- Removing neutral sentiment entries, storing locally\n",
    "- Pre-processing (basic text processing)\n",
    "    - Removal of stop words + tokenisation + Regex\n",
    "    - Frequency distribution (removal of additional stop words)\n",
    "    - Lemmatisation\n",
    "    - Lexical diversity + frequency distribution\n",
    "    \n",
    "(writeup not needed)\n",
    "\n",
    "TO DO LIST:\n",
    "- Convert/store the dataset locally and preprocess the data [**done**]\n",
    "- Describe the text representation (e.g., bag of words, word embedding, etc.) [**not done**]\n",
    "- any pre-processing steps you have applied and why they were needed (e.g. tokenisation [**done**], lemmatization [**done**])\n",
    "- Describe the vocabulary and file type/format, e.g. CSV file. [**not done**]"
   ]
  },
  {
   "cell_type": "markdown",
   "id": "4cf3b6af",
   "metadata": {},
   "source": [
    "#### Removing NaN entries\n",
    "To ensure that the dataset contains only required information, we will check and remove any entries that have missing values.\n",
    "\n",
    "#### Removing duplicated entries\n",
    "To ensure that the analysis is beneficial, all entriesshould be unique. A 'duplicated' column will be added to the a temporary copy of the dataset which is the output of the duplicated() function and we will print only columns where the 'duplicated' column is True. Based on the output, it is seen that there are some duplicated Tweets.\n",
    "\n",
    "#### Nature of Data\n",
    "Although the dataset is seen to have an minutely imbalanced nature between negatives and positives and the focus is to detect positive and negative sentiments. As such all entries that do not have a neutral sentiment."
   ]
  },
  {
   "cell_type": "markdown",
   "id": "d828a0aa",
   "metadata": {},
   "source": [
    "<b>The following blocks of code was self-written with references</b>\n",
    "<br>checking for duplicates: https://pandas.pydata.org/docs/reference/api/pandas.DataFrame.duplicated.html\n",
    "<br>creation of sample from large dataframe: https://pandas.pydata.org/docs/reference/api/pandas.DataFrame.sample.html"
   ]
  },
  {
   "cell_type": "code",
   "execution_count": 72,
   "id": "67b8652d",
   "metadata": {},
   "outputs": [
    {
     "name": "stdout",
     "output_type": "stream",
     "text": [
      "sentiments before cleaning:\n",
      "\n",
      " sentiment\n",
      "neutral     11118\n",
      "positive     8582\n",
      "negative     7781\n",
      "Name: count, dtype: int64\n",
      "sentiments after cleaning:\n",
      "\n",
      " sentiment\n",
      "neutral     11111\n",
      "negative     5861\n",
      "positive     5537\n",
      "Name: count, dtype: int64\n"
     ]
    }
   ],
   "source": [
    "# The following block of code was self-written\n",
    "sentiments = tweets_df['sentiment'].value_counts(dropna = False)\n",
    "print(\"sentiments before cleaning:\\n\\n\", sentiments)\n",
    "\n",
    "# Removing NaN values\n",
    "tweets_df.dropna(inplace = True)\n",
    "# Removing duplicate entries\n",
    "tweets_df.drop_duplicates(inplace = True)\n",
    "\n",
    "sentiments = tweets_df['sentiment'].value_counts(dropna = False)\n",
    "print(\"sentiments after cleaning:\\n\\n\", sentiments)"
   ]
  },
  {
   "cell_type": "code",
   "execution_count": 73,
   "id": "249da25f",
   "metadata": {},
   "outputs": [
    {
     "name": "stdout",
     "output_type": "stream",
     "text": [
      "positive sentiments: 5537\n",
      "neutral sentiments: 0\n",
      "negative sentiments: 5861\n"
     ]
    }
   ],
   "source": [
    "# The following block of code was self-written\n",
    "tweets_df = tweets_df[tweets_df['sentiment'] != 'neutral']\n",
    "\n",
    "# Resetting index\n",
    "tweets_df.reset_index(drop = True, inplace = True)\n",
    "print('positive sentiments:', tweets_df[tweets_df['sentiment'] == 'positive'].shape[0])\n",
    "print('neutral sentiments:', tweets_df[tweets_df['sentiment'] == 'neutral'].shape[0])\n",
    "print('negative sentiments:', tweets_df[tweets_df['sentiment'] == 'negative'].shape[0])"
   ]
  },
  {
   "cell_type": "markdown",
   "id": "14b439f3",
   "metadata": {},
   "source": [
    "The tweets_df will now be saved into a new dataset for easier accessibility. To ensure that no duplicates are saved, a simple path checking will be used."
   ]
  },
  {
   "cell_type": "code",
   "execution_count": 74,
   "id": "e132cf8b",
   "metadata": {},
   "outputs": [
    {
     "name": "stdout",
     "output_type": "stream",
     "text": [
      "File already exists.\n"
     ]
    }
   ],
   "source": [
    "# The following block of code was self-written\n",
    "filename = 'datasets/posNeg_twitter_sentiments.csv'\n",
    "save_to_csv(tweets_df ,filename)\n",
    "tweets_df = pd.read_csv(filename)"
   ]
  },
  {
   "cell_type": "markdown",
   "id": "58efb49a",
   "metadata": {},
   "source": [
    "#### Basic text processing\n",
    "To begin the process of analysing the text, we would require conducting the following basic text processing methods:\n",
    "- Removal of stop words + tokenisation + Regex\n",
    "- Frequency distribution (removal of additional stop words)\n",
    "- Lemmatisation\n",
    "- Lexical diversity + frequency distribution"
   ]
  },
  {
   "cell_type": "markdown",
   "id": "17ac1183",
   "metadata": {},
   "source": [
    "- **Removing stop words**: In human language, it is very common for stop words to be present. These words, including **determiners** (eg: the, a, this, my), **conjunctions** (eg: and, or, nor, but, whereas) and **prepositions** (eg: against, along, at, before), are used to connect thoughts and speech to form grammatically accurate sentences or structural cohesion. While important during communication amongst one another, they do not carry importance or sentiments that would be valuable to this project, thus introducing noise. The removal would help to streamline the process to focus on words that would contribute more meaning to the sentiment of Tweets.\n",
    "\n",
    "* tokenisation will be done in lowercase as all stopwords are in lowercase.\n",
    "\n",
    "- **Regular expression (Regex)**: To ensure that the analysis is only on alphabetical inputs, the use of Regex will remove all non-alphabetical characters."
   ]
  },
  {
   "cell_type": "code",
   "execution_count": 75,
   "id": "2bd5d87f",
   "metadata": {
    "scrolled": false
   },
   "outputs": [
    {
     "name": "stdout",
     "output_type": "stream",
     "text": [
      "Filtered from 8 to 4\n"
     ]
    }
   ],
   "source": [
    "# The following block of code was self-written\n",
    "# Get stopword list\n",
    "stop_words = get_stop_words('english')\n",
    "\n",
    "# Checking removal works on a test text\n",
    "test_tweet = 'This is a test that Stopword removal works.'\n",
    "\n",
    "tokens = test_tweet.lower().split()\n",
    "# Removing each token if part of stop_words\n",
    "filtered_tokens = [token for token in tokens if token not in stop_words]\n",
    "print(\"Filtered from\", len(tokens), \"to\", len(filtered_tokens))"
   ]
  },
  {
   "cell_type": "markdown",
   "id": "ec6f2eb9",
   "metadata": {},
   "source": [
    "The following commented out code was the original self-written code that now is not being used.\n",
    "<br>It was modified to aid in the stemming and lemmatisation in the next section"
   ]
  },
  {
   "cell_type": "code",
   "execution_count": 76,
   "id": "36b231fe",
   "metadata": {},
   "outputs": [],
   "source": [
    "# The following block of code was self-written\n",
    "tweets = tweets_df['tweet'].tolist()\n",
    "\n",
    "filtered_tweets = []\n",
    "for tweet in tweets:\n",
    "    tokens = tweet.lower().split()\n",
    "    # Removing each token if part of stop_words\n",
    "    filtered_tokens = [token for token in tokens if token not in stop_words]\n",
    "    filtered_tweet = \" \".join(filtered_tokens)  # Convert tokens to a string\n",
    "    filtered_tweets.append(filtered_tweet)\n",
    "\n",
    "tweets_df['filtered_tweet'] = filtered_tweets\n",
    "tweets_df['filtered_tweet'].replace('', np.nan, inplace = True)\n",
    "tweets_df.dropna(inplace = True)"
   ]
  },
  {
   "cell_type": "markdown",
   "id": "a285ebf1",
   "metadata": {},
   "source": [
    "#### Regular expression\n",
    "removes any non alphabeticals"
   ]
  },
  {
   "cell_type": "markdown",
   "id": "efeb22fd",
   "metadata": {},
   "source": [
    "<b>The following block of code was self-written with reference</b>\n",
    "<br>using lambda: https://www.w3schools.com/python/python_lambda.asp"
   ]
  },
  {
   "cell_type": "code",
   "execution_count": 77,
   "id": "843e4a1c",
   "metadata": {},
   "outputs": [
    {
     "name": "stdout",
     "output_type": "stream",
     "text": [
      "testing that is removed\n"
     ]
    },
    {
     "data": {
      "text/html": [
       "<div>\n",
       "<style scoped>\n",
       "    .dataframe tbody tr th:only-of-type {\n",
       "        vertical-align: middle;\n",
       "    }\n",
       "\n",
       "    .dataframe tbody tr th {\n",
       "        vertical-align: top;\n",
       "    }\n",
       "\n",
       "    .dataframe thead th {\n",
       "        text-align: right;\n",
       "    }\n",
       "</style>\n",
       "<table border=\"1\" class=\"dataframe\">\n",
       "  <thead>\n",
       "    <tr style=\"text-align: right;\">\n",
       "      <th></th>\n",
       "      <th>tweet</th>\n",
       "      <th>sentiment</th>\n",
       "      <th>filtered_tweet</th>\n",
       "    </tr>\n",
       "  </thead>\n",
       "  <tbody>\n",
       "    <tr>\n",
       "      <th>0</th>\n",
       "      <td>Sooo SAD</td>\n",
       "      <td>negative</td>\n",
       "      <td>sooo sad</td>\n",
       "    </tr>\n",
       "    <tr>\n",
       "      <th>1</th>\n",
       "      <td>bullying me</td>\n",
       "      <td>negative</td>\n",
       "      <td>bullying</td>\n",
       "    </tr>\n",
       "    <tr>\n",
       "      <th>2</th>\n",
       "      <td>leave me alone</td>\n",
       "      <td>negative</td>\n",
       "      <td>leave alone</td>\n",
       "    </tr>\n",
       "    <tr>\n",
       "      <th>3</th>\n",
       "      <td>Sons of ****,</td>\n",
       "      <td>negative</td>\n",
       "      <td>sons</td>\n",
       "    </tr>\n",
       "    <tr>\n",
       "      <th>4</th>\n",
       "      <td>fun</td>\n",
       "      <td>positive</td>\n",
       "      <td>fun</td>\n",
       "    </tr>\n",
       "  </tbody>\n",
       "</table>\n",
       "</div>"
      ],
      "text/plain": [
       "            tweet sentiment filtered_tweet\n",
       "0        Sooo SAD  negative       sooo sad\n",
       "1     bullying me  negative       bullying\n",
       "2  leave me alone  negative    leave alone\n",
       "3   Sons of ****,  negative           sons\n",
       "4             fun  positive            fun"
      ]
     },
     "execution_count": 77,
     "metadata": {},
     "output_type": "execute_result"
    }
   ],
   "source": [
    "# The following block of code was self-written\n",
    "# Removing all non alphabetical tokens\n",
    "def clean_text_input(text):\n",
    "    cleaned_text = re.sub(r'[^a-zA-Z ]', '', text)\n",
    "    cleaned_text = re.sub(r'\\s+', ' ', cleaned_text)\n",
    "    return cleaned_text.strip()\n",
    "\n",
    "print(clean_text_input('testing that 200000 is removed?'))\n",
    "\n",
    "# Apply cleaning to each row of 'filtered_tweet'\n",
    "tweets_df['filtered_tweet'] = tweets_df['filtered_tweet'].apply(clean_text_input)\n",
    "tweets_df['filtered_tweet'].replace('', np.nan, inplace = True)\n",
    "tweets_df.dropna(inplace = True)\n",
    "tweets_df.head()"
   ]
  },
  {
   "cell_type": "markdown",
   "id": "f0871932",
   "metadata": {},
   "source": [
    "The removal of stopwords has reduced the texts. Due to the dataset chosen having the column named as 'selected_text' which is cleaned tweets done by the owner, as well as the cleaning of stopwords, and additional use of Regex, the text will now be examined.\n",
    "\n",
    "#### Frequency distribution\n",
    "By making use of the **collections.Counter library**, it would allow the most used words to be displayed. Based on the output, it is seen that there are additional stopwords that were not in the stopwords library that should be removed. As such, the stopwords will be removed such that the top 30 used words are not stopwords. (Words that do not seem to have a positive or negative sentiment will be considered a 'stopword' in this stage. As some stopwords paired with other non-stopwords may change the sentiment, words that carry negations will not be removed.)"
   ]
  },
  {
   "cell_type": "markdown",
   "id": "4db1efee",
   "metadata": {},
   "source": [
    "<b>The following blocks of code was self-written with reference</b>\n",
    "<br>collections library: https://www.digitalocean.com/community/tutorials/python-counter-python-collections-counter"
   ]
  },
  {
   "cell_type": "code",
   "execution_count": 91,
   "id": "105c03c3",
   "metadata": {},
   "outputs": [],
   "source": [
    "# The following block of code was self-written\n",
    "# Concatenate all tokenised words together\n",
    "tokenised_words = []\n",
    "for tweet in tweets_df['filtered_tweet']:\n",
    "    tokens = tweet.split()\n",
    "    for t in tokens:\n",
    "        tokenised_words.append(t)\n",
    "        \n",
    "word_counts = Counter(tokenised_words)"
   ]
  },
  {
   "cell_type": "code",
   "execution_count": 92,
   "id": "5a547f64",
   "metadata": {
    "scrolled": false
   },
   "outputs": [
    {
     "name": "stdout",
     "output_type": "stream",
     "text": [
      "im: 619\n",
      "good: 594\n",
      "day: 501\n",
      "love: 435\n",
      "happy: 380\n"
     ]
    },
    {
     "data": {
      "image/png": "[encoded data removed]",
      "text/plain": [
       "<Figure size 1000x300 with 1 Axes>"
      ]
     },
     "metadata": {},
     "output_type": "display_data"
    }
   ],
   "source": [
    "# The following block of code was self-written\n",
    "# Displays top 10 used words and their frequencies\n",
    "most_used_words = word_counts.most_common(5)\n",
    "for word, count in most_used_words:\n",
    "    print(f\"{word}: {count}\")\n",
    "\n",
    "# Get top 30 most used words\n",
    "most_used_words = word_counts.most_common(30)\n",
    "# Extract the words and their frequencies\n",
    "words, frequencies = zip(*most_used_words)\n",
    "\n",
    "# Plot the word frequencies\n",
    "plt.figure(figsize=(10, 3))\n",
    "plt.bar(words, frequencies)\n",
    "\n",
    "# Labelling and title\n",
    "plt.xlabel('Words')\n",
    "plt.ylabel('Frequency')\n",
    "plt.title('Top 30 Words Most Frequently Used')\n",
    "# Rotate x-axis labels if needed\n",
    "plt.xticks(rotation = 45)\n",
    "plt.show()"
   ]
  },
  {
   "cell_type": "code",
   "execution_count": 113,
   "id": "5277222d",
   "metadata": {},
   "outputs": [],
   "source": [
    "words_to_remove = ['im', 'day', 'like', 'just', 'really', 'mothers', 'its', 'now', 'get', 'work',\n",
    "                   'one', 'u', 'well', 'thats','you','today','go','it','going','time','got','will',\n",
    "                   's', 'night', 'oh', 'e', 'still', 'think', 'feeling', 'want', 'see']\n",
    "\n",
    "tweets_df['filtered_tweet'] = tweets_df['filtered_tweet'].apply(lambda tweet: ' '.join(\n",
    "    word for word in tweet.split() if word.lower() not in words_to_remove))"
   ]
  },
  {
   "cell_type": "code",
   "execution_count": 114,
   "id": "8c2793d7",
   "metadata": {},
   "outputs": [],
   "source": [
    "# The following block of code was self-written\n",
    "# Concatenate all tokenised words together\n",
    "tokenised_words = []\n",
    "for tweet in tweets_df['filtered_tweet']:\n",
    "    tokens = tweet.split()\n",
    "    for t in tokens:\n",
    "        tokenised_words.append(t)\n",
    "        \n",
    "word_counts = Counter(tokenised_words)"
   ]
  },
  {
   "cell_type": "code",
   "execution_count": 116,
   "id": "a51498e5",
   "metadata": {
    "scrolled": false
   },
   "outputs": [
    {
     "data": {
      "image/png": "[encoded data removed]",
      "text/plain": [
       "<Figure size 1000x300 with 1 Axes>"
      ]
     },
     "metadata": {},
     "output_type": "display_data"
    }
   ],
   "source": [
    "# The following block of code was self-written    \n",
    "# Get top 30 most used words\n",
    "most_used_words = word_counts.most_common(30)\n",
    "# Extract the words and their frequencies\n",
    "words, frequencies = zip(*most_used_words)\n",
    "\n",
    "# Plot the word frequencies\n",
    "plt.figure(figsize=(10, 3))\n",
    "plt.bar(words, frequencies)\n",
    "\n",
    "# Labelling and title\n",
    "plt.xlabel('Words')\n",
    "plt.ylabel('Frequency')\n",
    "plt.title('Top 30 Words Most Frequently Used')\n",
    "# Rotate x-axis labels if needed\n",
    "plt.xticks(rotation = 45)\n",
    "plt.show()"
   ]
  },
  {
   "cell_type": "code",
   "execution_count": 43,
   "id": "27342b77",
   "metadata": {},
   "outputs": [
    {
     "name": "stdout",
     "output_type": "stream",
     "text": [
      "File already exists.\n"
     ]
    }
   ],
   "source": [
    "# The following block of code was self-written\n",
    "filename = 'datasets/filtered_twitter_sentiments.csv'\n",
    "save_to_csv(tweets_df ,filename)\n",
    "tweets_df = pd.read_csv(filename)"
   ]
  },
  {
   "cell_type": "markdown",
   "id": "22387e7c",
   "metadata": {},
   "source": [
    "#### Lemmatisation\n",
    "The first step before lemmatisation is to ensure that the input is a string, as the column filtered_tweets seem to be a string looking like a list, we would have to resolve that issue before starting lemmatisation.\n",
    "\n",
    "** writeup on lemmatisation"
   ]
  },
  {
   "cell_type": "markdown",
   "id": "cc61ed6b",
   "metadata": {},
   "source": [
    "<b>The following blocks of code was self-written with reference</b>\n",
    "<br>literal_eval: https://docs.python.org/3/library/ast.html\n",
    "<br>understanding lemmatisation: https://www.geeksforgeeks.org/python-lemmatization-with-nltk/"
   ]
  },
  {
   "cell_type": "code",
   "execution_count": 62,
   "id": "22b94a29",
   "metadata": {},
   "outputs": [],
   "source": [
    "## The following block of code was self-written\n",
    "#nan_entries = tweets_df[tweets_df.isna().any(axis = 1)]\n",
    "#print(\"Before cleaning:\\n\", nan_entries)\n",
    "#tweets_df.dropna(inplace = True)\n",
    "#nan_entries = tweets_df[tweets_df.isna().any(axis = 1)]\n",
    "#print(\"\\nAfter cleaning:\\n\", nan_entries)"
   ]
  },
  {
   "cell_type": "code",
   "execution_count": 63,
   "id": "c62fb527",
   "metadata": {},
   "outputs": [],
   "source": [
    "## The following block of code was self-written\n",
    "#filename = 'datasets/cleaned_Twitter_Data_Sentiments.csv'\n",
    "#save_to_csv(tweets_df, filename)\n",
    "#tweets_df = pd.read_csv(filename)"
   ]
  },
  {
   "cell_type": "markdown",
   "id": "a7dc5500",
   "metadata": {},
   "source": [
    "#### Removing NaN entries\n",
    "As Regex and stop words removal can cause entries to be invalid, the removal of NaN entries will be done."
   ]
  },
  {
   "cell_type": "markdown",
   "id": "b257df8d",
   "metadata": {},
   "source": [
    "#### Lexical diversity\n",
    "Lexical analysis is used as a metric to measure the variety or richness of the vocabulary used in a text corpora. This helps to gain understanding to the complexity of the data being used.\n",
    "\n",
    "$$\\text{Lexical Diversity} = \\frac{\\text{Total Number of Unique Words}}{\\text{Total Number of Words}}$$\n",
    "\n",
    "Based on the output, the language used in both positive and negative sentiments is slightly less diverse compared to the neutral sentiments. However, since the difference is minute, it would suggest that the vocabulary used and linguistic complexity are similar across all sentiments. This is a valid statement as the dataset consists of already modified tweets by the owner of the dataset."
   ]
  },
  {
   "cell_type": "code",
   "execution_count": 64,
   "id": "17a585bb",
   "metadata": {},
   "outputs": [],
   "source": [
    "## The following block of code was self-written\n",
    "#positive_sentiments = tweets_df[tweets_df['sentiment'] == 1]\n",
    "#neutral_sentiments = tweets_df[tweets_df['sentiment'] == 0]\n",
    "#negative_sentiments = tweets_df[tweets_df['sentiment'] == -1]\n",
    "#\n",
    "#positive_tokens = positive_sentiments['lemmatized_tweet'].str.split()\n",
    "#neutral_tokens = neutral_sentiments['lemmatized_tweet'].str.split()\n",
    "#negative_tokens = negative_sentiments['lemmatized_tweet'].str.split()\n",
    "#\n",
    "#def calc_lexicalDiversity(tokens):\n",
    "#    # Exclude empty string from tokens\n",
    "#    tokens = [token for token in tokens if token]\n",
    "#    # Counts all tokens\n",
    "#    total_tokens = sum(len(token) for token in tokens)\n",
    "#    # Creates set of unique tokens\n",
    "#    unique_tokens = set(token for sublist in tokens for token in sublist)\n",
    "#    # Counts set of unique tokens\n",
    "#    unique_total_tokens = len(unique_tokens)\n",
    "#    return unique_total_tokens / total_tokens\n",
    "#\n",
    "#positive_lexical_diversity = calc_lexicalDiversity(positive_tokens)\n",
    "#neutral_lexical_diversity = calc_lexicalDiversity(neutral_tokens)\n",
    "#negative_lexical_diversity = calc_lexicalDiversity(negative_tokens)\n",
    "#\n",
    "#print(\"positive lexical diversity:\", positive_lexical_diversity)\n",
    "#print(\"neutral lexical diversity:\", neutral_lexical_diversity)\n",
    "#print(\"negative lexical diversity:\", negative_lexical_diversity)"
   ]
  },
  {
   "cell_type": "markdown",
   "id": "ef27593a",
   "metadata": {},
   "source": [
    "#### Text representation - Term Frequency-Inverse Document Frequency (TF-IDF): "
   ]
  },
  {
   "cell_type": "markdown",
   "id": "7eeda453",
   "metadata": {},
   "source": [
    "<b>The following blocks of code was self-written with heavy reference</b>\n",
    "<br>TF-IDF: https://en.wikipedia.org/wiki/Tf%E2%80%93idf"
   ]
  },
  {
   "cell_type": "code",
   "execution_count": 66,
   "id": "ec92dec0",
   "metadata": {},
   "outputs": [],
   "source": [
    "## The following block of code was self-written\n",
    "#from sklearn.feature_extraction.text import TfidfVectorizer\n",
    "#\n",
    "#vectorizer = TfidfVectorizer()\n",
    "## Fit the vectorizer to 'lemmatized_tweet' column\n",
    "#vectorizer.fit(tweets_df['filtered_tweet'])\n",
    "## Transform the 'lemmatized_tweet' column into TF-IDF matrix\n",
    "#tfidf_matrix = vectorizer.transform(tweets_df['filtered_tweet'])\n",
    "## Convert the TF-IDF matrix to array\n",
    "#tfidf_array = tfidf_matrix.toarray()\n",
    "#\n",
    "## Print feature names (words)\n",
    "#feature_names = vectorizer.get_feature_names_out()\n",
    "#print(\"Feature Names:\", feature_names)\n",
    "## Print BoW matrix\n",
    "#print(\"TF-IDF Matrix:\")\n",
    "#print(tfidf_array)"
   ]
  },
  {
   "cell_type": "markdown",
   "id": "2d2fd548",
   "metadata": {},
   "source": [
    "### 2.3 Baseline performance\n",
    "(writeup not needed)"
   ]
  },
  {
   "cell_type": "markdown",
   "id": "a06ca830",
   "metadata": {},
   "source": [
    "### 2.4 Classification approach\n",
    "(writeup not needed)"
   ]
  },
  {
   "cell_type": "markdown",
   "id": "64d0d9cc",
   "metadata": {},
   "source": [
    "### 2.5 Coding style\n",
    "(writeup not needed)"
   ]
  },
  {
   "cell_type": "markdown",
   "id": "e13c187d",
   "metadata": {},
   "source": [
    "## III. Conclusions"
   ]
  },
  {
   "cell_type": "markdown",
   "id": "6b1c2562",
   "metadata": {},
   "source": [
    "### 3.1 Evaluation"
   ]
  },
  {
   "cell_type": "markdown",
   "id": "d99e3055",
   "metadata": {},
   "source": [
    "### 3.2 Summary and conclusions"
   ]
  },
  {
   "cell_type": "markdown",
   "id": "950434fd",
   "metadata": {},
   "source": [
    "## Temporary reference list\n",
    "* to use citation generator\n",
    "\n",
    "- "
   ]
  }
 ],
 "metadata": {
  "kernelspec": {
   "display_name": "Python 3 (ipykernel)",
   "language": "python",
   "name": "python3"
  },
  "language_info": {
   "codemirror_mode": {
    "name": "ipython",
    "version": 3
   },
   "file_extension": ".py",
   "mimetype": "text/x-python",
   "name": "python",
   "nbconvert_exporter": "python",
   "pygments_lexer": "ipython3",
   "version": "3.11.3"
  }
 },
 "nbformat": 4,
 "nbformat_minor": 5
}
