{
 "cells": [
  {
   "cell_type": "markdown",
   "id": "d423c27a",
   "metadata": {},
   "source": [
    "<h2><center>NLP Text Classification<center></h2>"
   ]
  },
  {
   "cell_type": "markdown",
   "id": "704819ee",
   "metadata": {},
   "source": [
    "## Code Content:\n",
    "- [Importing dataset + choosing columns](#s1)\n",
    "- [Cleaning entries (Removal and selection)](#s2)\n",
    "- [Stopword removal + Regular expression](#s3)\n",
    "- [Frequency distribution + removal of more stopwords](#s4)\n",
    "- [Lemmatization](#s5)\n",
    "- [Lexical diversity](#s6)\n",
    "- [Text representation: TF-IDF](#s7)\n",
    "- [Baseline performance](#s8)\n",
    "- [Classification approach](#s9)"
   ]
  },
  {
   "cell_type": "markdown",
   "id": "1101e842",
   "metadata": {},
   "source": [
    "## I. Introduction\n",
    "### 1.1 Domain-specific area\n",
    "This project provides an analysis of textual data on Twitter to accurately detect and classify sentiment trends in Tweets using sentiment analysis techniques. This would provide businesses with a tool that takes in a corpus of text for training to analyse the sentiment of tweets and assist in understanding the needs of their target audience."
   ]
  },
  {
   "cell_type": "markdown",
   "id": "72286743",
   "metadata": {},
   "source": [
    "### 1.2 Objectives\n",
    "While existing algorithms have been centered around the detection of cyberbullying on social media (Cynthia Van Hee et al., 2018), this project aims to broaden the scope of detection by focusing on sentiment analysis. Developing a sentiment analyzer to detect positive and negative sentiments in texts lets businesses or content creators to understand the emotional sentiments related to their content distributed or to be created. This helps in the improvement and diversity of sentiment detection tools."
   ]
  },
  {
   "cell_type": "markdown",
   "id": "1afd0cf1",
   "metadata": {},
   "source": [
    "### 1.3 Dataset\n",
    "To begin this project, an extensive amount of textual data corpora is required. After researching large datasets of Tweets, \"Twitter Tweets Sentiment Dataset\" on Kaggle was proven to be the best for this project. With 27.5 thousand tweets extracted using the Twitter API, the authors have categorised each tweet to have either a positive, neutral or negative sentiment, which is beneficial for the algorithm to categorise textual input by sentiment.\n",
    "\n",
    "The dataset consists of the textID, text (the original Tweets), selected_text (defined as the Tweets that do not have redundant information) and the sentiment of the tweet. This project will only focus on positive and negative sentiments."
   ]
  },
  {
   "cell_type": "markdown",
   "id": "f381e0e6",
   "metadata": {},
   "source": [
    "### 1.4 Evaluation methodology\n",
    "The evaluation will be run by using the Machine Learning models Logistic Regression, Random Forest Classifier and Support Vector Machines. As each classifier are suitable for different types of data, the evaluation focuses on the performance of each classifier to find the most suitable model for training.\n",
    "\n",
    "This will be evaluated by Accuracy and Precision of each training model. The following are the formulas for accuracy and precision. Accuracy is the percentage of correct predictions out of all predictions made, whereas precision is the number of accurately predicted positives over all predicted positives.<br><br>\n",
    "\n",
    "$$\\text{Accuracy} = \\frac{\\text{Number of Correct Predictions (TP+TN)}}{\\text{Number of all Predictions (TP+TN+FP+FN)}}$$\n",
    "\n",
    "$$\\text{Precision} = \\frac{\\text{Number of Correctly Predicted Positives (TP)}}{\\text{Number of Total Positives Predicted (TP+FP)}}$$\n",
    "\n",
    "<br>** TP: true positives, FP: false positives, TN: true negatives, FN: false negatives"
   ]
  },
  {
   "cell_type": "markdown",
   "id": "d2f69e39",
   "metadata": {},
   "source": [
    "## II. Implementation\n",
    "### 2.1 Preparation of dataset\n",
    "\n",
    "#### Importing libraries\n",
    "- **pandas library** was imported to process and handle datasets in Python. It is used to help write and read from CSV files while handling real-world messy data and processing them into a proper format\n",
    "\n",
    "- **numpy library** was imported to handle calculations and use numpy arrays for statistical calculations\n",
    "\n",
    "- **matplotlib library** was imported to plot the data and represent it graphically\n",
    "\n",
    "- **os library** was imported to have a way of using the operating system dependent functionalities, more specifically to save the dataset as a CSV\n",
    "\n",
    "- **stopwords library** was imported to have a library of the most common words in data to aid in stopwords removal\n",
    "\n",
    "- **collections.Counter library** is a dictionary subclass that counts the frequency of elements. This helps to check for additional common words being used\n",
    "\n",
    "- **WordNetLemmatizer library** was imported to perform lemmatization on words. It reduces words to its base or dictionary form, known as the lemma\n",
    "\n",
    "- **re library** was imported as a flexible pattern matching algorithm. It helps in generalising words to aid in complex text processing\n",
    "\n",
    "- **train_test_split library** was imported to split the large dataset into separate training and testing subsets for evaluating the performance of the models on unseen data\n",
    "\n",
    "- **TfidfVectorizer and CountVectorizer library** were imported to evaluate which vector would be more suitable for the sentimental analysis based on the nature of the data\n",
    "\n",
    "- **LogisticRegression, RandomForestClassifier and SVC library** were the chosen classifiers used to evaluate the text sentiment classifier. Each model excels in different aspects of the data\n",
    "\n",
    "- **accuracy_score, classification_report library** were imported to assess the performance of the classification models. It helps with understanding the predictive capibilities of each model"
   ]
  },
  {
   "cell_type": "code",
   "execution_count": 39,
   "id": "26cf64bb",
   "metadata": {},
   "outputs": [],
   "source": [
    "# The following block of code was self-written\n",
    "# dataframes\n",
    "import pandas as pd\n",
    "import numpy as np\n",
    "import matplotlib.pyplot as plt\n",
    "import os\n",
    "\n",
    "# text processing and analysis\n",
    "#import nltk\n",
    "# stop words library\n",
    "from stop_words import get_stop_words\n",
    "# analysing text corpora\n",
    "from collections import Counter\n",
    "\n",
    "# stemming and lemmatization\n",
    "from nltk.stem import WordNetLemmatizer\n",
    "# regular expressions\n",
    "import re\n",
    "\n",
    "# baseline performance\n",
    "from sklearn.model_selection import train_test_split\n",
    "# TF-IDF and Count vectorisers\n",
    "from sklearn.feature_extraction.text import TfidfVectorizer\n",
    "from sklearn.feature_extraction.text import CountVectorizer\n",
    "# models used\n",
    "from sklearn.naive_bayes import MultinomialNB\n",
    "from sklearn.linear_model import LogisticRegression\n",
    "from sklearn.ensemble import RandomForestClassifier\n",
    "from sklearn.svm import SVC\n",
    "# classification accuracy\n",
    "from sklearn.metrics import accuracy_score, classification_report"
   ]
  },
  {
   "cell_type": "markdown",
   "id": "43e59f38",
   "metadata": {},
   "source": [
    "#### Helper function\n",
    "As the dataset will be saved at each section for easier access to the CSV based on each progressive step, the saving step will be changed to a function. This is done as the dataset will be saved after each milestone."
   ]
  },
  {
   "cell_type": "code",
   "execution_count": 40,
   "id": "efd07a47",
   "metadata": {},
   "outputs": [],
   "source": [
    "# The following block of code was self-written\n",
    "def save_to_csv(df,file_path):\n",
    "    if not os.path.exists(file_path):\n",
    "        df.to_csv(file_path, index = False)\n",
    "        print(\"File saved successfully.\")\n",
    "    else:\n",
    "        print(\"File already exists.\")"
   ]
  },
  {
   "cell_type": "markdown",
   "id": "4b39c4f8",
   "metadata": {},
   "source": [
    "<a id = \"s1\"></a>\n",
    "#### Acquiring and Importing dataset\n",
    "The dataset on the collection of Tweets were acquired from Kaggle by downloading the CSV file.<br>The owner of this dataset is M Yasser H.\n",
    "\n",
    "To check that the dataset is ready for cleaning and analysis, we will look at the first entry to check if there are headers. Since there are headers, and the dataset contains only relevant information, the text, and sentiment, the headers will just be modified to \"tweet\" and \"sentiment\" for better comprehension."
   ]
  },
  {
   "cell_type": "code",
   "execution_count": 41,
   "id": "6c6bb523",
   "metadata": {},
   "outputs": [
    {
     "data": {
      "text/html": [
       "<div>\n",
       "<style scoped>\n",
       "    .dataframe tbody tr th:only-of-type {\n",
       "        vertical-align: middle;\n",
       "    }\n",
       "\n",
       "    .dataframe tbody tr th {\n",
       "        vertical-align: top;\n",
       "    }\n",
       "\n",
       "    .dataframe thead th {\n",
       "        text-align: right;\n",
       "    }\n",
       "</style>\n",
       "<table border=\"1\" class=\"dataframe\">\n",
       "  <thead>\n",
       "    <tr style=\"text-align: right;\">\n",
       "      <th></th>\n",
       "      <th>textID</th>\n",
       "      <th>text</th>\n",
       "      <th>selected_text</th>\n",
       "      <th>sentiment</th>\n",
       "    </tr>\n",
       "  </thead>\n",
       "  <tbody>\n",
       "    <tr>\n",
       "      <th>0</th>\n",
       "      <td>cb774db0d1</td>\n",
       "      <td>I`d have responded, if I were going</td>\n",
       "      <td>I`d have responded, if I were going</td>\n",
       "      <td>neutral</td>\n",
       "    </tr>\n",
       "  </tbody>\n",
       "</table>\n",
       "</div>"
      ],
      "text/plain": [
       "       textID                                  text  \\\n",
       "0  cb774db0d1   I`d have responded, if I were going   \n",
       "\n",
       "                         selected_text sentiment  \n",
       "0  I`d have responded, if I were going   neutral  "
      ]
     },
     "execution_count": 41,
     "metadata": {},
     "output_type": "execute_result"
    }
   ],
   "source": [
    "# The following block of code was self-written\n",
    "df = pd.read_csv(\"datasets/twitter_sentiments.csv\", nrows = 1)\n",
    "df"
   ]
  },
  {
   "cell_type": "code",
   "execution_count": 42,
   "id": "b98626b1",
   "metadata": {},
   "outputs": [
    {
     "data": {
      "text/html": [
       "<div>\n",
       "<style scoped>\n",
       "    .dataframe tbody tr th:only-of-type {\n",
       "        vertical-align: middle;\n",
       "    }\n",
       "\n",
       "    .dataframe tbody tr th {\n",
       "        vertical-align: top;\n",
       "    }\n",
       "\n",
       "    .dataframe thead th {\n",
       "        text-align: right;\n",
       "    }\n",
       "</style>\n",
       "<table border=\"1\" class=\"dataframe\">\n",
       "  <thead>\n",
       "    <tr style=\"text-align: right;\">\n",
       "      <th></th>\n",
       "      <th>tweet</th>\n",
       "      <th>sentiment</th>\n",
       "    </tr>\n",
       "  </thead>\n",
       "  <tbody>\n",
       "    <tr>\n",
       "      <th>0</th>\n",
       "      <td>I`d have responded, if I were going</td>\n",
       "      <td>neutral</td>\n",
       "    </tr>\n",
       "    <tr>\n",
       "      <th>1</th>\n",
       "      <td>Sooo SAD</td>\n",
       "      <td>negative</td>\n",
       "    </tr>\n",
       "    <tr>\n",
       "      <th>2</th>\n",
       "      <td>bullying me</td>\n",
       "      <td>negative</td>\n",
       "    </tr>\n",
       "    <tr>\n",
       "      <th>3</th>\n",
       "      <td>leave me alone</td>\n",
       "      <td>negative</td>\n",
       "    </tr>\n",
       "    <tr>\n",
       "      <th>4</th>\n",
       "      <td>Sons of ****,</td>\n",
       "      <td>negative</td>\n",
       "    </tr>\n",
       "  </tbody>\n",
       "</table>\n",
       "</div>"
      ],
      "text/plain": [
       "                                 tweet sentiment\n",
       "0  I`d have responded, if I were going   neutral\n",
       "1                             Sooo SAD  negative\n",
       "2                          bullying me  negative\n",
       "3                       leave me alone  negative\n",
       "4                        Sons of ****,  negative"
      ]
     },
     "execution_count": 42,
     "metadata": {},
     "output_type": "execute_result"
    }
   ],
   "source": [
    "# The following block of code was self-written\n",
    "tweets_df = pd.read_csv(\"datasets/twitter_sentiments.csv\")\n",
    "tweets_df = tweets_df[[\"selected_text\", \"sentiment\"]]\n",
    "tweets_df.columns = [\"tweet\", \"sentiment\"]\n",
    "tweets_df.head()"
   ]
  },
  {
   "cell_type": "markdown",
   "id": "4c8e1df4",
   "metadata": {},
   "source": [
    "### 2.2 Pre-processing\n",
    "The dataset that will be used in this analysis consists of the tweets that were cleaned by the owner of the dataset, M Yasser H., and the sentiment of the tweet will be transformed from a multiclass classification of \"positive\", \"neutral\" and \"negative\" to a binary classification of \"positive\" and \"negative\". The data is stored as a CSV file and is imported using Python Pandas to create a dataframe.\n",
    "\n",
    "Completed steps:\n",
    "- Removing NaN and duplicated entries\n",
    "- Removing neutral sentiment entries, storing locally\n",
    "- Pre-processing (basic text processing)\n",
    "    - Removal of stop words + Tokenization + Regex\n",
    "    - Frequency distribution (removal of additional stop words)\n",
    "    - Lemmatization\n",
    "    - Lexical diversity\n",
    "    - Text representation: TF-IDF"
   ]
  },
  {
   "cell_type": "markdown",
   "id": "4cf3b6af",
   "metadata": {},
   "source": [
    "<a id = \"s2\"></a>\n",
    "#### Removing NaN entries\n",
    "To ensure that the dataset contains only required information, we will check and remove any entries that have missing values.\n",
    "\n",
    "#### Removing duplicated entries\n",
    "To ensure that the analysis is beneficial, all entriesshould be unique. A \"duplicated\" column will be added to the a temporary copy of the dataset which is the output of the duplicated() function and we will print only columns where the \"duplicated\" column is True. Based on the output, it is seen that there are some duplicated Tweets.\n",
    "\n",
    "#### Nature of Data\n",
    "Although the dataset is seen to have an minutely imbalanced nature between negatives and positives and the focus is to detect positive and negative sentiments. As such all entries that do not have a neutral sentiment."
   ]
  },
  {
   "cell_type": "markdown",
   "id": "d828a0aa",
   "metadata": {},
   "source": [
    "<b>The following blocks of code was self-written with references</b>\n",
    "<br>checking for duplicates: https://pandas.pydata.org/docs/reference/api/pandas.DataFrame.duplicated.html\n",
    "<br>creation of sample from large dataframe: https://pandas.pydata.org/docs/reference/api/pandas.DataFrame.sample.html"
   ]
  },
  {
   "cell_type": "code",
   "execution_count": 43,
   "id": "67b8652d",
   "metadata": {},
   "outputs": [
    {
     "name": "stdout",
     "output_type": "stream",
     "text": [
      "sentiments before cleaning:\n",
      "\n",
      " sentiment\n",
      "neutral     11118\n",
      "positive     8582\n",
      "negative     7781\n",
      "Name: count, dtype: int64\n",
      "sentiments after cleaning:\n",
      "\n",
      " sentiment\n",
      "neutral     11111\n",
      "negative     5861\n",
      "positive     5537\n",
      "Name: count, dtype: int64\n"
     ]
    }
   ],
   "source": [
    "# The following block of code was self-written\n",
    "sentiments = tweets_df[\"sentiment\"].value_counts(dropna = False)\n",
    "print(\"sentiments before cleaning:\\n\\n\", sentiments)\n",
    "\n",
    "# Removing NaN values\n",
    "tweets_df.dropna(inplace = True)\n",
    "# Removing duplicate entries\n",
    "tweets_df.drop_duplicates(inplace = True)\n",
    "\n",
    "sentiments = tweets_df[\"sentiment\"].value_counts(dropna = False)\n",
    "print(\"sentiments after cleaning:\\n\\n\", sentiments)"
   ]
  },
  {
   "cell_type": "code",
   "execution_count": 44,
   "id": "249da25f",
   "metadata": {},
   "outputs": [
    {
     "name": "stdout",
     "output_type": "stream",
     "text": [
      "positive sentiments: 5537\n",
      "neutral sentiments: 0\n",
      "negative sentiments: 5861\n"
     ]
    }
   ],
   "source": [
    "# The following block of code was self-written\n",
    "tweets_df = tweets_df[tweets_df[\"sentiment\"] != \"neutral\"]\n",
    "\n",
    "# Resetting index\n",
    "tweets_df.reset_index(drop = True, inplace = True)\n",
    "print(\"positive sentiments:\", tweets_df[tweets_df[\"sentiment\"] == \"positive\"].shape[0])\n",
    "print(\"neutral sentiments:\", tweets_df[tweets_df[\"sentiment\"] == \"neutral\"].shape[0])\n",
    "print(\"negative sentiments:\", tweets_df[tweets_df[\"sentiment\"] == \"negative\"].shape[0])"
   ]
  },
  {
   "cell_type": "markdown",
   "id": "14b439f3",
   "metadata": {},
   "source": [
    "The tweets_df will now be saved into a new dataset for easier accessibility.<br>To ensure that no duplicates are saved, a simple path checking will be used."
   ]
  },
  {
   "cell_type": "code",
   "execution_count": 45,
   "id": "e132cf8b",
   "metadata": {},
   "outputs": [
    {
     "name": "stdout",
     "output_type": "stream",
     "text": [
      "File saved successfully.\n"
     ]
    }
   ],
   "source": [
    "# The following block of code was self-written\n",
    "filename = \"datasets/posNeg_twitter_sentiments.csv\"\n",
    "save_to_csv(tweets_df ,filename)\n",
    "tweets_df = pd.read_csv(filename)"
   ]
  },
  {
   "cell_type": "markdown",
   "id": "58efb49a",
   "metadata": {},
   "source": [
    "#### Basic text processing\n",
    "To begin the process of analysing the text, we would require conducting basic text processing methods on cleaned data.\n",
    "\n",
    "Cleaning:\n",
    "- Removal of stop words + Regex\n",
    "- Removal of additional stop words\n",
    "- Lemmatization\n",
    "\n",
    "Text Processing:\n",
    "- Frequency distribution\n",
    "- Lexical diversity\n",
    "- Text representation - TF-IDF"
   ]
  },
  {
   "cell_type": "markdown",
   "id": "17ac1183",
   "metadata": {},
   "source": [
    "<a id = \"s3\"></a>\n",
    "#### Removing stop words\n",
    "In human language, it is very common for stop words to be present. These words, including **determiners** (eg: the, a, this, my), **conjunctions** (eg: and, or, nor, but, whereas) and **prepositions** (eg: against, along, at, before), are used to connect thoughts and speech to form grammatically accurate sentences or structural cohesion.\n",
    "\n",
    "While important during communication amongst one another, they do not carry importance or sentiments that would be valuable to this project, thus introducing noise. The removal would help to streamline the process to focus on words that would contribute more meaning to the sentiment of Tweets.\n",
    "\n",
    "** tokenization will be done in lowercase as all stopwords are in lowercase.\n",
    "\n",
    "#### Regular expression (Regex)\n",
    "To ensure that the analysis is only on alphabetical inputs, the use of Regex will remove all non-alphabetical characters. Regex is a tool commonly used for pattern matching and text manipulation. By searching for characters using rules and patterns, these words will be reduced. For this project, Regex is used to remove all non-alphabetical tokens as the sentimental analysis focuses on words.\n",
    "\n",
    "A better Regex function was created (clean_text_input2) to remove any elongated words as it is a common occurance in human language, however it was seen that the output was not as successful as using the original Regex function (clean_text_input) as some words that have multiple consecutive words would be changed (eg: \"good\" would be reduced to \"god\", which are 2 different meanings). As such, clean_text_input was chosen to conduct Regex."
   ]
  },
  {
   "cell_type": "markdown",
   "id": "efeb22fd",
   "metadata": {},
   "source": [
    "<b>The following block of code was self-written with reference</b>\n",
    "<br>using lambda: https://www.w3schools.com/python/python_lambda.asp"
   ]
  },
  {
   "cell_type": "code",
   "execution_count": 46,
   "id": "2bd5d87f",
   "metadata": {
    "scrolled": false
   },
   "outputs": [
    {
     "name": "stdout",
     "output_type": "stream",
     "text": [
      "Filtered from 8 to 4\n"
     ]
    }
   ],
   "source": [
    "# The following block of code was self-written\n",
    "# Get stopword list\n",
    "stop_words = get_stop_words(\"english\")\n",
    "\n",
    "# Checking removal works on a test text\n",
    "test_tweet = \"This is a test that Stopword removal works.\"\n",
    "\n",
    "tokens = test_tweet.lower().split()\n",
    "# Removing each token if part of stop_words\n",
    "filtered_tokens = [token for token in tokens if token not in stop_words]\n",
    "print(\"Filtered from\", len(tokens), \"to\", len(filtered_tokens))"
   ]
  },
  {
   "cell_type": "code",
   "execution_count": 47,
   "id": "36b231fe",
   "metadata": {},
   "outputs": [],
   "source": [
    "# The following block of code was self-written\n",
    "tweets = tweets_df[\"tweet\"].tolist()\n",
    "\n",
    "filtered_tweets = []\n",
    "for tweet in tweets:\n",
    "    tokens = tweet.lower().split()\n",
    "    # Removing each token if part of stop_words\n",
    "    filtered_tokens = [token for token in tokens if token not in stop_words]\n",
    "    filtered_tweet = \" \".join(filtered_tokens)  # Convert tokens to a string\n",
    "    filtered_tweets.append(filtered_tweet)\n",
    "\n",
    "tweets_df[\"filtered_tweet\"] = filtered_tweets\n",
    "tweets_df[\"filtered_tweet\"].replace(\"\", np.nan, inplace = True)\n",
    "tweets_df.dropna(inplace = True)"
   ]
  },
  {
   "cell_type": "code",
   "execution_count": 48,
   "id": "843e4a1c",
   "metadata": {},
   "outputs": [
    {
     "name": "stdout",
     "output_type": "stream",
     "text": [
      "testing that is remooooved\n"
     ]
    },
    {
     "data": {
      "text/html": [
       "<div>\n",
       "<style scoped>\n",
       "    .dataframe tbody tr th:only-of-type {\n",
       "        vertical-align: middle;\n",
       "    }\n",
       "\n",
       "    .dataframe tbody tr th {\n",
       "        vertical-align: top;\n",
       "    }\n",
       "\n",
       "    .dataframe thead th {\n",
       "        text-align: right;\n",
       "    }\n",
       "</style>\n",
       "<table border=\"1\" class=\"dataframe\">\n",
       "  <thead>\n",
       "    <tr style=\"text-align: right;\">\n",
       "      <th></th>\n",
       "      <th>tweet</th>\n",
       "      <th>sentiment</th>\n",
       "      <th>filtered_tweet</th>\n",
       "    </tr>\n",
       "  </thead>\n",
       "  <tbody>\n",
       "    <tr>\n",
       "      <th>0</th>\n",
       "      <td>Sooo SAD</td>\n",
       "      <td>negative</td>\n",
       "      <td>sooo sad</td>\n",
       "    </tr>\n",
       "    <tr>\n",
       "      <th>1</th>\n",
       "      <td>bullying me</td>\n",
       "      <td>negative</td>\n",
       "      <td>bullying</td>\n",
       "    </tr>\n",
       "    <tr>\n",
       "      <th>2</th>\n",
       "      <td>leave me alone</td>\n",
       "      <td>negative</td>\n",
       "      <td>leave alone</td>\n",
       "    </tr>\n",
       "    <tr>\n",
       "      <th>3</th>\n",
       "      <td>Sons of ****,</td>\n",
       "      <td>negative</td>\n",
       "      <td>sons</td>\n",
       "    </tr>\n",
       "    <tr>\n",
       "      <th>4</th>\n",
       "      <td>fun</td>\n",
       "      <td>positive</td>\n",
       "      <td>fun</td>\n",
       "    </tr>\n",
       "  </tbody>\n",
       "</table>\n",
       "</div>"
      ],
      "text/plain": [
       "            tweet sentiment filtered_tweet\n",
       "0        Sooo SAD  negative       sooo sad\n",
       "1     bullying me  negative       bullying\n",
       "2  leave me alone  negative    leave alone\n",
       "3   Sons of ****,  negative           sons\n",
       "4             fun  positive            fun"
      ]
     },
     "execution_count": 48,
     "metadata": {},
     "output_type": "execute_result"
    }
   ],
   "source": [
    "# The following block of code was self-written\n",
    "# Removing all non alphabetical tokens\n",
    "def clean_text_input(text):\n",
    "    cleaned_text = re.sub(r\"[^a-zA-Z ]\", \"\", text)\n",
    "    cleaned_text = re.sub(r\"\\s+\", \" \", cleaned_text)\n",
    "    return cleaned_text.strip()\n",
    "\n",
    "# While this is better to remove any elongated speech, but doesn\"t work well for TF-IDF\n",
    "def clean_text_input2(text):\n",
    "    cleaned_text = re.sub(r\"(\\S)\\1+\", r\"\\1\", text)\n",
    "    cleaned_text = re.sub(r\"\\d+\", \"\", cleaned_text)\n",
    "    cleaned_text = re.sub(r\"[^\\w\\s]\", \"\", cleaned_text)\n",
    "    cleaned_text = re.sub(r\"\\s+\", \" \", cleaned_text)\n",
    "    return cleaned_text.strip()\n",
    "\n",
    "print(clean_text_input(\"testing that 200000 is remooooved?\"))\n",
    "\n",
    "# Apply cleaning to each row of \"filtered_tweet\"\n",
    "tweets_df[\"filtered_tweet\"] = tweets_df[\"filtered_tweet\"].apply(clean_text_input)\n",
    "tweets_df[\"filtered_tweet\"].replace(\"\", np.nan, inplace = True)\n",
    "tweets_df.dropna(inplace = True)\n",
    "tweets_df.head()"
   ]
  },
  {
   "cell_type": "markdown",
   "id": "f0871932",
   "metadata": {},
   "source": [
    "<a id = \"s4\"></a><br>\n",
    "The removal of stopwords has reduced the texts. Due to the dataset chosen having the column named as \"selected_text\" which is cleaned tweets done by the owner, as well as the cleaning of stopwords, and additional use of Regex, the text will now be examined.\n",
    "\n",
    "#### Frequency distribution\n",
    "By making use of the **collections.Counter library**, it would allow the most used words to be displayed. Based on the output, it is seen that there are additional stopwords that were not in the stopwords library that should be removed. As such, the stopwords will be removed such that the top 30 used words are not stopwords. (Words that do not seem to have a positive or negative sentiment will be considered a \"stopword\" in this stage. As some stopwords paired with other non-stopwords may change the sentiment, words that carry negations will not be removed.)"
   ]
  },
  {
   "cell_type": "markdown",
   "id": "4db1efee",
   "metadata": {},
   "source": [
    "<b>The following blocks of code was self-written with reference</b>\n",
    "<br>collections library: https://www.digitalocean.com/community/tutorials/python-counter-python-collections-counter"
   ]
  },
  {
   "cell_type": "code",
   "execution_count": 49,
   "id": "105c03c3",
   "metadata": {},
   "outputs": [],
   "source": [
    "# The following block of code was self-written\n",
    "# Concatenate all tokenized words together\n",
    "tokenized_words = []\n",
    "for tweet in tweets_df[\"filtered_tweet\"]:\n",
    "    tokens = tweet.split()\n",
    "    for t in tokens:\n",
    "        tokenized_words.append(t)\n",
    "        \n",
    "word_counts = Counter(tokenized_words)"
   ]
  },
  {
   "cell_type": "code",
   "execution_count": 50,
   "id": "5a547f64",
   "metadata": {
    "scrolled": false
   },
   "outputs": [
    {
     "name": "stdout",
     "output_type": "stream",
     "text": [
      "im: 619\n",
      "good: 594\n",
      "day: 501\n",
      "love: 435\n",
      "happy: 380\n"
     ]
    },
    {
     "data": {
      "image/png": "[encoded data removed]",
      "text/plain": [
       "<Figure size 1000x300 with 1 Axes>"
      ]
     },
     "metadata": {},
     "output_type": "display_data"
    }
   ],
   "source": [
    "# The following block of code was self-written\n",
    "# Displays top 10 used words and their frequencies\n",
    "most_used_words = word_counts.most_common(5)\n",
    "for word, count in most_used_words:\n",
    "    print(f\"{word}: {count}\")\n",
    "\n",
    "# Get top 30 most used words\n",
    "most_used_words = word_counts.most_common(30)\n",
    "# Extract the words and their frequencies\n",
    "words, frequencies = zip(*most_used_words)\n",
    "\n",
    "# Plot the word frequencies\n",
    "plt.figure(figsize = (10, 3))\n",
    "plt.bar(words, frequencies)\n",
    "\n",
    "# Labelling and title\n",
    "plt.xlabel(\"Words\")\n",
    "plt.ylabel(\"Frequency\")\n",
    "plt.title(\"Top 30 Words Most Frequently Used\")\n",
    "# Rotate x-axis labels if needed\n",
    "plt.xticks(rotation = 45)\n",
    "plt.show()"
   ]
  },
  {
   "cell_type": "markdown",
   "id": "4b36d659",
   "metadata": {},
   "source": [
    "#### Removal of additional stopwords"
   ]
  },
  {
   "cell_type": "code",
   "execution_count": 51,
   "id": "6a753673",
   "metadata": {},
   "outputs": [
    {
     "name": "stdout",
     "output_type": "stream",
     "text": [
      "['im', 'good', 'day', 'love', 'happy', 'like', 'dont', 'just', 'cant', 'really', 'great', 'fun', 'thanks', 'feel', 'miss', 'mothers', 'nice', 'much', 'sad', 'bad', 'its', 'hope', 'now', 'sorry', 'get', 'hate', 'work', 'one', 'u', 'well', 'thats', 'you', 'today', 'go', 'it', 'awesome', 'going', 'time', 'got', 'thank', 'best', 'will', 'wish', 'sick', 's', 'night', 'oh', 'better', 'e', 'still', 'sucks', 'think', 'feeling', 'lol', 'cool', 'want', 'see', 'tired', 'amazing', 'pretty']\n"
     ]
    }
   ],
   "source": [
    "# The following block of code was self-written\n",
    "most_used_words = word_counts.most_common(60)\n",
    "words_to_remove = []\n",
    "for word, count in most_used_words:\n",
    "    words_to_remove.append(f\"{word}\")\n",
    "print(words_to_remove)"
   ]
  },
  {
   "cell_type": "code",
   "execution_count": 52,
   "id": "1808edba",
   "metadata": {},
   "outputs": [
    {
     "name": "stdout",
     "output_type": "stream",
     "text": [
      "30\n"
     ]
    }
   ],
   "source": [
    "# The following block of code was self-written\n",
    "words_to_remove = [\"im\", \"day\", \"just\", \"fel\", \"mothers\", \"its\", \n",
    "                   \"now\", \"get\", \"you\", \"one\", \"u\", \"go\", \"today\", \"thats\", \n",
    "                   \"so\", \"it\", \"oh\", \"going\", \"time\", \"got\", \"wil\", \"s\", \n",
    "                   \"night\", \"aw\", \"e\", \"stil\", \"think\", \"feling\", \"se\", \"col\"]\n",
    "\n",
    "print(60 - len(words_to_remove))\n",
    "\n",
    "tweets_df[\"filtered_tweet\"] = tweets_df[\"filtered_tweet\"].apply(lambda tweet: \" \".join(\n",
    "    word for word in tweet.split() if word.lower() not in words_to_remove))\n",
    "\n",
    "# Removing NaN values after cleaning\n",
    "tweets_df[\"filtered_tweet\"].replace(\"\", np.nan, inplace = True)\n",
    "tweets_df.dropna(inplace = True)"
   ]
  },
  {
   "cell_type": "code",
   "execution_count": 53,
   "id": "24a9517e",
   "metadata": {},
   "outputs": [],
   "source": [
    "# The following block of code was self-written\n",
    "# Concatenate all tokenized words together\n",
    "tokenized_words = []\n",
    "for tweet in tweets_df[\"filtered_tweet\"]:\n",
    "    tokens = tweet.split()\n",
    "    for t in tokens:\n",
    "        tokenized_words.append(t)\n",
    "        \n",
    "word_counts = Counter(tokenized_words)"
   ]
  },
  {
   "cell_type": "code",
   "execution_count": 54,
   "id": "18f0c787",
   "metadata": {
    "scrolled": false
   },
   "outputs": [
    {
     "data": {
      "image/png": "[encoded data removed]",
      "text/plain": [
       "<Figure size 1000x300 with 1 Axes>"
      ]
     },
     "metadata": {},
     "output_type": "display_data"
    }
   ],
   "source": [
    "# The following block of code was self-written\n",
    "# Get top 30 most used words\n",
    "most_used_words = word_counts.most_common(30)\n",
    "# Extract the words and their frequencies\n",
    "words, frequencies = zip(*most_used_words)\n",
    "\n",
    "# Plot the word frequencies\n",
    "plt.figure(figsize=(10, 3))\n",
    "plt.bar(words, frequencies)\n",
    "\n",
    "# Labelling and title\n",
    "plt.xlabel(\"Words\")\n",
    "plt.ylabel(\"Frequency\")\n",
    "plt.title(\"Top 30 Words Most Frequently Used\")\n",
    "# Rotate x-axis labels if needed\n",
    "plt.xticks(rotation = 45)\n",
    "plt.show()"
   ]
  },
  {
   "cell_type": "code",
   "execution_count": 55,
   "id": "27342b77",
   "metadata": {},
   "outputs": [
    {
     "name": "stdout",
     "output_type": "stream",
     "text": [
      "File saved successfully.\n"
     ]
    }
   ],
   "source": [
    "# The following block of code was self-written\n",
    "filename = \"datasets/filtered_twitter_sentiments.csv\"\n",
    "save_to_csv(tweets_df, filename)\n",
    "tweets_df = pd.read_csv(filename)"
   ]
  },
  {
   "cell_type": "markdown",
   "id": "22387e7c",
   "metadata": {},
   "source": [
    "<a id = \"s5\"></a>\n",
    "#### Lemmatization\n",
    "Lemmatization is the process of grouping reducing words to their root form. This was chosen when in comparison to stemming as stemming only focuses on just chopping off words at the end to reach the \"stem\" of the word (ie: \"greater\" would be reduced to \"great\") whereas lemmatization focuses on finding the base word (ie: \"greater\" can be reduced to \"good\").\n",
    "\n",
    "This was done by running lemmatizer.lemmatize() on each word that was tokenised for each row in the \"filtered_tweet\" column. these words would be joined back into a string to be added to a new column \"lemmatized_tweet\"."
   ]
  },
  {
   "cell_type": "markdown",
   "id": "cc61ed6b",
   "metadata": {},
   "source": [
    "<b>The following blocks of code was self-written with reference</b>\n",
    "<br>understanding lemmatization: https://www.geeksforgeeks.org/python-lemmatization-with-nltk/"
   ]
  },
  {
   "cell_type": "code",
   "execution_count": 56,
   "id": "b59ee8ca",
   "metadata": {},
   "outputs": [
    {
     "name": "stdout",
     "output_type": "stream",
     "text": [
      "Number of entries lemmatized: 1856\n"
     ]
    }
   ],
   "source": [
    "# The following block of code was self-written\n",
    "# Initialize lemmatizer\n",
    "lemmatizer = WordNetLemmatizer()\n",
    "\n",
    "# Iterate through the rows of the dataframe\n",
    "for index, row in tweets_df.iterrows():\n",
    "    tweet_string = row[\"filtered_tweet\"]\n",
    "    \n",
    "    # Perform lemmatization on the tweet string\n",
    "    lemmatized_words = [lemmatizer.lemmatize(word) for word in tweet_string.split()]\n",
    "    lemmatized_string = \" \".join(lemmatized_words)\n",
    "    \n",
    "    # Update the dataframe with the lemmatized string\n",
    "    tweets_df.at[index, \"lemmatized_tweet\"] = lemmatized_string\n",
    "\n",
    "# Proof that there are changes\n",
    "diff = sum(tweets_df[\"filtered_tweet\"] != tweets_df[\"lemmatized_tweet\"])\n",
    "print(\"Number of entries lemmatized:\", diff)"
   ]
  },
  {
   "cell_type": "code",
   "execution_count": 58,
   "id": "c62fb527",
   "metadata": {},
   "outputs": [
    {
     "name": "stdout",
     "output_type": "stream",
     "text": [
      "File already exists.\n"
     ]
    }
   ],
   "source": [
    "# The following block of code was self-written\n",
    "filename = \"datasets/lemma_twitter_sentiments.csv\"\n",
    "save_to_csv(tweets_df, filename)\n",
    "tweets_df = pd.read_csv(filename)"
   ]
  },
  {
   "cell_type": "markdown",
   "id": "b257df8d",
   "metadata": {},
   "source": [
    "<a id = \"s6\"></a>\n",
    "#### Lexical diversity\n",
    "Lexical analysis is used as a metric to measure the variety or richness of the vocabulary used in a text corpora.<br>This helps to gain understanding to the complexity of the data being used.<br><br>\n",
    "\n",
    "$$\\text{Lexical Diversity} = \\frac{\\text{Total Number of Unique Words}}{\\text{Total Number of Words}}$$\n",
    "\n",
    "<br>Based on the output, the language used in both positive and negative sentiments are of similar complexity. This suggests that the vocabulary used and linguistic complexity are similar across both sentiments. This is a valid statement as the dataset inputs used for the project consists of already modified tweets by the owner of the dataset."
   ]
  },
  {
   "cell_type": "code",
   "execution_count": 59,
   "id": "17a585bb",
   "metadata": {},
   "outputs": [
    {
     "name": "stdout",
     "output_type": "stream",
     "text": [
      "positive lexical diversity: 0.2418831168831169\n",
      "negative lexical diversity: 0.2711410232442201\n"
     ]
    }
   ],
   "source": [
    "# The following block of code was self-written\n",
    "positive_sentiments = tweets_df[tweets_df[\"sentiment\"] == \"positive\"]\n",
    "negative_sentiments = tweets_df[tweets_df[\"sentiment\"] == \"negative\"]\n",
    "\n",
    "positive_tokens = positive_sentiments[\"lemmatized_tweet\"].str.split()\n",
    "negative_tokens = negative_sentiments[\"lemmatized_tweet\"].str.split()\n",
    "\n",
    "def calc_lexicalDiversity(tokens):\n",
    "    # Exclude empty string from tokens\n",
    "    tokens = [token for token in tokens if token]\n",
    "    # Counts all tokens\n",
    "    total_tokens = sum(len(token) for token in tokens)\n",
    "    # Creates set of unique tokens\n",
    "    unique_tokens = set(token for sublist in tokens for token in sublist)\n",
    "    # Counts set of unique tokens\n",
    "    unique_total_tokens = len(unique_tokens)\n",
    "    return unique_total_tokens / total_tokens\n",
    "\n",
    "positive_lexical_diversity = calc_lexicalDiversity(positive_tokens)\n",
    "negative_lexical_diversity = calc_lexicalDiversity(negative_tokens)\n",
    "\n",
    "print(\"positive lexical diversity:\", positive_lexical_diversity)\n",
    "print(\"negative lexical diversity:\", negative_lexical_diversity)"
   ]
  },
  {
   "cell_type": "markdown",
   "id": "ef27593a",
   "metadata": {},
   "source": [
    "<a id = \"s7\"></a>\n",
    "#### Text representation - TF-IDF\n",
    "Term Frequency-Inverse Document Frequency (TF-IDF) is defined as the calculation of how relevant a word is to a corpus of text. This will be chosen as the text representation as TF-IDF is widely used to determine the importance of words within textual data. This will be beneficial when conducting the [Baseline performance](#s7) and [Classification approach](#s8) as TF-IDF tends to be more reliable than the frequencies of words.\n",
    "\n",
    "As the textual data is large, a better representation of the relevance of words would be to add a parameter \"min_df\" of 100 to display only feature words that appear at least 100 times."
   ]
  },
  {
   "cell_type": "markdown",
   "id": "7eeda453",
   "metadata": {},
   "source": [
    "<b>The following blocks of code was self-written with heavy reference</b>\n",
    "<br>TF-IDF: https://en.wikipedia.org/wiki/Tf%E2%80%93idf"
   ]
  },
  {
   "cell_type": "code",
   "execution_count": 60,
   "id": "c3110f5f",
   "metadata": {
    "scrolled": true
   },
   "outputs": [
    {
     "name": "stdout",
     "output_type": "stream",
     "text": [
      "Feature Names: ['awesome' 'bad' 'best' 'better' 'cant' 'dont' 'feel' 'fun' 'good' 'great'\n",
      " 'happy' 'hate' 'hope' 'like' 'love' 'make' 'miss' 'much' 'nice' 'really'\n",
      " 'sad' 'sick' 'sorry' 'suck' 'thank' 'thanks' 'want' 'well' 'will' 'wish'\n",
      " 'work']\n"
     ]
    }
   ],
   "source": [
    "# The following block of code was self-written\n",
    "# Initialize the vectorizer\n",
    "vectorizer = TfidfVectorizer(min_df = 100)\n",
    "\n",
    "# Fit the vectorizer to \"lemmatized_tweet\" column\n",
    "tfidf_matrix = vectorizer.fit_transform(tweets_df[\"lemmatized_tweet\"])\n",
    "\n",
    "# Get the feature names (words)\n",
    "feature_names = vectorizer.get_feature_names_out()\n",
    "# Get the corresponding TF-IDF values\n",
    "tfidf_array = tfidf_matrix.toarray()\n",
    "\n",
    "print(\"Feature Names:\", feature_names)"
   ]
  },
  {
   "cell_type": "markdown",
   "id": "2d2fd548",
   "metadata": {},
   "source": [
    "<a id = \"s8\"></a>\n",
    "### 2.3 Baseline performance\n",
    "The collection of data is first split such that 70% of the dataset can be used to train the models while 30% of the dataset can be used to check the accuracy. The baseline model being used is the Multinomial Naive Bayes Classifier (NB) as it is normally used for text classification.\n",
    "\n",
    "To consider which vector to use for the Classification approach, the NB model was ran both with a Count vectorizer, which focuses on the occurance of each word, and a TF-IDF vectorizer, which uses a vector based on the learnt vocabulary. However, as the outputs were both the same, the decision to conduct the other models with both vectorizers was decided on."
   ]
  },
  {
   "cell_type": "markdown",
   "id": "d54d9e84",
   "metadata": {},
   "source": [
    "<b>The following blocks of code was self-written with heavy reference</b>\n",
    "<br>Train-test split: https://scikit-learn.org/stable/modules/generated/sklearn.model_selection.train_test_split.html"
   ]
  },
  {
   "cell_type": "code",
   "execution_count": 61,
   "id": "98b98ae9",
   "metadata": {},
   "outputs": [],
   "source": [
    "# The following block of code was writen based on scikit-learn\n",
    "# Split the data into training and testing sets\n",
    "X_train, X_test, y_train, y_test = train_test_split(tweets_df[\"lemmatized_tweet\"], tweets_df[\"sentiment\"],\n",
    "                                                    test_size = 0.3, random_state = 42)"
   ]
  },
  {
   "cell_type": "code",
   "execution_count": 62,
   "id": "23ef90a9",
   "metadata": {
    "scrolled": true
   },
   "outputs": [
    {
     "name": "stdout",
     "output_type": "stream",
     "text": [
      "Accuracy: 0.8537444933920705\n",
      "Classification Report:\n",
      "              precision    recall  f1-score   support\n",
      "\n",
      "    negative       0.86      0.87      0.86      1788\n",
      "    positive       0.85      0.84      0.84      1617\n",
      "\n",
      "    accuracy                           0.85      3405\n",
      "   macro avg       0.85      0.85      0.85      3405\n",
      "weighted avg       0.85      0.85      0.85      3405\n",
      "\n"
     ]
    }
   ],
   "source": [
    "# The following block of code was self-written\n",
    "# Create Count vectorizer\n",
    "vectorizer = CountVectorizer()\n",
    "X_train_vectorized = vectorizer.fit_transform(X_train)\n",
    "X_test_vectorized = vectorizer.transform(X_test)\n",
    "\n",
    "# Train the Naive Bayes classifier\n",
    "naiveBayesModel = MultinomialNB()\n",
    "naiveBayesModel.fit(X_train_vectorized, y_train)\n",
    "\n",
    "# Predict the labels for the test set\n",
    "y_pred = naiveBayesModel.predict(X_test_vectorized)\n",
    "\n",
    "# Evaluate the model\n",
    "accuracy = accuracy_score(y_test, y_pred)\n",
    "report = classification_report(y_test, y_pred)\n",
    "print(\"Accuracy:\", accuracy)\n",
    "print(\"Classification Report:\")\n",
    "print(report)"
   ]
  },
  {
   "cell_type": "code",
   "execution_count": 63,
   "id": "2c43e0c0",
   "metadata": {
    "scrolled": true
   },
   "outputs": [
    {
     "name": "stdout",
     "output_type": "stream",
     "text": [
      "Accuracy: 0.8537444933920705\n",
      "Classification Report:\n",
      "              precision    recall  f1-score   support\n",
      "\n",
      "    negative       0.86      0.87      0.86      1788\n",
      "    positive       0.85      0.84      0.84      1617\n",
      "\n",
      "    accuracy                           0.85      3405\n",
      "   macro avg       0.85      0.85      0.85      3405\n",
      "weighted avg       0.85      0.85      0.85      3405\n",
      "\n"
     ]
    }
   ],
   "source": [
    "# The following block of code was self-written\n",
    "# Create a TF-IDF vectorizer\n",
    "vectorizer = TfidfVectorizer()\n",
    "X_train_vectorized = vectorizer.fit_transform(X_train)\n",
    "X_test_vectorized = vectorizer.transform(X_test)\n",
    "\n",
    "# Train the Naive Bayes classifier\n",
    "naiveBayesModel = MultinomialNB()\n",
    "naiveBayesModel.fit(X_train_vectorized, y_train)\n",
    "\n",
    "# Predict the labels for the test set\n",
    "y_pred = naiveBayesModel.predict(X_test_vectorized)\n",
    "\n",
    "# Evaluate the model\n",
    "accuracy = accuracy_score(y_test, y_pred)\n",
    "report = classification_report(y_test, y_pred)\n",
    "print(\"Accuracy:\", accuracy)\n",
    "print(\"Classification Report:\")\n",
    "print(report)"
   ]
  },
  {
   "cell_type": "markdown",
   "id": "b8fdfc63",
   "metadata": {},
   "source": [
    "<a id = \"s9\"></a>\n",
    "### 2.4 Classification approach\n",
    "The 3 models chosen to compare with the baseline model, NB, were Logistic Regression (LR), Random Forest Classifier (RF) and Support Vector Machines (SVM). These were chosen as they are known to be popular classifiers in NLP.\n",
    "\n",
    "LR is known to be beneficial in binary classification tasks like sentiment analysis and spam detection. RF is known to combine decision trees to help with predictive accuracy and reduce overfitting. This is normally used for classification or regression tasks. SVM is seen as a powerful model for classification or regression tasks as well, but is heavily used for text classification tasks like sentiment analysis.\n",
    "\n",
    "This would suggest that all 3 models are suitable for this project, which aims to conduct sentiment analysis to accurately conduct binary classification."
   ]
  },
  {
   "cell_type": "code",
   "execution_count": 64,
   "id": "7cf18c93",
   "metadata": {
    "scrolled": true
   },
   "outputs": [
    {
     "name": "stdout",
     "output_type": "stream",
     "text": [
      "Accuracy: 0.8558002936857563\n",
      "Classification Report:\n",
      "              precision    recall  f1-score   support\n",
      "\n",
      "    negative       0.84      0.89      0.87      1788\n",
      "    positive       0.87      0.82      0.84      1617\n",
      "\n",
      "    accuracy                           0.86      3405\n",
      "   macro avg       0.86      0.85      0.85      3405\n",
      "weighted avg       0.86      0.86      0.86      3405\n",
      "\n"
     ]
    }
   ],
   "source": [
    "# The following block of code was self-written\n",
    "# Create Count vectorizer\n",
    "vectorizer = CountVectorizer()\n",
    "X_train_vectorized = vectorizer.fit_transform(X_train)\n",
    "X_test_vectorized = vectorizer.transform(X_test)\n",
    "\n",
    "# Train the logistic regression classifier\n",
    "logreModel = LogisticRegression()\n",
    "logreModel.fit(X_train_vectorized, y_train)\n",
    "\n",
    "# Predict the labels for the test set\n",
    "y_pred = logreModel.predict(X_test_vectorized)\n",
    "\n",
    "# Evaluate the model\n",
    "accuracy = accuracy_score(y_test, y_pred)\n",
    "report = classification_report(y_test, y_pred)\n",
    "print(\"Accuracy:\", accuracy)\n",
    "print(\"Classification Report:\")\n",
    "print(report)"
   ]
  },
  {
   "cell_type": "code",
   "execution_count": 65,
   "id": "59ab6710",
   "metadata": {
    "scrolled": true
   },
   "outputs": [
    {
     "name": "stdout",
     "output_type": "stream",
     "text": [
      "Accuracy: 0.8575624082232012\n",
      "Classification Report:\n",
      "              precision    recall  f1-score   support\n",
      "\n",
      "    negative       0.84      0.90      0.87      1788\n",
      "    positive       0.88      0.81      0.84      1617\n",
      "\n",
      "    accuracy                           0.86      3405\n",
      "   macro avg       0.86      0.86      0.86      3405\n",
      "weighted avg       0.86      0.86      0.86      3405\n",
      "\n"
     ]
    }
   ],
   "source": [
    "# The following block of code was self-written\n",
    "# Create a TF-IDF vectorizer\n",
    "vectorizer = TfidfVectorizer()\n",
    "X_train_vectorized = vectorizer.fit_transform(X_train)\n",
    "X_test_vectorized = vectorizer.transform(X_test)\n",
    "\n",
    "# Train the logistic regression classifier\n",
    "logreModel = LogisticRegression()\n",
    "logreModel.fit(X_train_vectorized, y_train)\n",
    "\n",
    "# Predict the labels for the test set\n",
    "y_pred = logreModel.predict(X_test_vectorized)\n",
    "\n",
    "# Evaluate the model\n",
    "accuracy = accuracy_score(y_test, y_pred)\n",
    "report = classification_report(y_test, y_pred)\n",
    "print(\"Accuracy:\", accuracy)\n",
    "print(\"Classification Report:\")\n",
    "print(report)"
   ]
  },
  {
   "cell_type": "code",
   "execution_count": 66,
   "id": "41474b9c",
   "metadata": {},
   "outputs": [
    {
     "name": "stdout",
     "output_type": "stream",
     "text": [
      "Accuracy: 0.8140969162995595\n",
      "Classification Report:\n",
      "              precision    recall  f1-score   support\n",
      "\n",
      "    negative       0.91      0.72      0.80      1788\n",
      "    positive       0.75      0.92      0.82      1617\n",
      "\n",
      "    accuracy                           0.81      3405\n",
      "   macro avg       0.83      0.82      0.81      3405\n",
      "weighted avg       0.83      0.81      0.81      3405\n",
      "\n"
     ]
    }
   ],
   "source": [
    "# The following block of code was self-written\n",
    "# Create Count vectorizer\n",
    "vectorizer = CountVectorizer()\n",
    "X_train_vectorized = vectorizer.fit_transform(X_train)\n",
    "X_test_vectorized = vectorizer.transform(X_test)\n",
    "\n",
    "# Train the Random Forest classifier\n",
    "rfModel = RandomForestClassifier()\n",
    "rfModel.fit(X_train_vectorized.toarray(), y_train)\n",
    "\n",
    "# Predict the labels for the test set\n",
    "y_pred = rfModel.predict(X_test_vectorized.toarray())\n",
    "\n",
    "# Evaluate the model\n",
    "accuracy = accuracy_score(y_test, y_pred)\n",
    "report = classification_report(y_test, y_pred)\n",
    "print(\"Accuracy:\", accuracy)\n",
    "print(\"Classification Report:\")\n",
    "print(report)"
   ]
  },
  {
   "cell_type": "code",
   "execution_count": 67,
   "id": "461e5f60",
   "metadata": {},
   "outputs": [
    {
     "name": "stdout",
     "output_type": "stream",
     "text": [
      "Accuracy: 0.8226138032305433\n",
      "Classification Report:\n",
      "              precision    recall  f1-score   support\n",
      "\n",
      "    negative       0.91      0.74      0.81      1788\n",
      "    positive       0.76      0.92      0.83      1617\n",
      "\n",
      "    accuracy                           0.82      3405\n",
      "   macro avg       0.83      0.83      0.82      3405\n",
      "weighted avg       0.84      0.82      0.82      3405\n",
      "\n"
     ]
    }
   ],
   "source": [
    "# The following block of code was self-written\n",
    "# Create a TF-IDF vectorizer\n",
    "vectorizer = TfidfVectorizer()\n",
    "X_train_vectorized = vectorizer.fit_transform(X_train)\n",
    "X_test_vectorized = vectorizer.transform(X_test)\n",
    "\n",
    "# Train the Random Forest classifier\n",
    "rfModel = RandomForestClassifier()\n",
    "rfModel.fit(X_train_vectorized.toarray(), y_train)\n",
    "\n",
    "# Predict the labels for the test set\n",
    "y_pred = rfModel.predict(X_test_vectorized.toarray())\n",
    "\n",
    "# Evaluate the model\n",
    "accuracy = accuracy_score(y_test, y_pred)\n",
    "report = classification_report(y_test, y_pred)\n",
    "print(\"Accuracy:\", accuracy)\n",
    "print(\"Classification Report:\")\n",
    "print(report)"
   ]
  },
  {
   "cell_type": "code",
   "execution_count": 68,
   "id": "3136f541",
   "metadata": {},
   "outputs": [
    {
     "name": "stdout",
     "output_type": "stream",
     "text": [
      "Accuracy: 0.8513950073421439\n",
      "Classification Report:\n",
      "              precision    recall  f1-score   support\n",
      "\n",
      "    negative       0.82      0.91      0.87      1788\n",
      "    positive       0.89      0.79      0.83      1617\n",
      "\n",
      "    accuracy                           0.85      3405\n",
      "   macro avg       0.86      0.85      0.85      3405\n",
      "weighted avg       0.85      0.85      0.85      3405\n",
      "\n"
     ]
    }
   ],
   "source": [
    "# The following block of code was self-written\n",
    "# Create Count vectorizer\n",
    "vectorizer = CountVectorizer()\n",
    "X_train_vectorized = vectorizer.fit_transform(X_train)\n",
    "X_test_vectorized = vectorizer.transform(X_test)\n",
    "\n",
    "# Train the Support Vector Machine classifier\n",
    "svmModel = SVC()\n",
    "svmModel.fit(X_train_vectorized, y_train)\n",
    "\n",
    "# Predict the labels for the test set\n",
    "y_pred = svmModel.predict(X_test_vectorized.toarray())\n",
    "\n",
    "# Evaluate the model\n",
    "accuracy = accuracy_score(y_test, y_pred)\n",
    "report = classification_report(y_test, y_pred)\n",
    "print(\"Accuracy:\", accuracy)\n",
    "print(\"Classification Report:\")\n",
    "print(report)"
   ]
  },
  {
   "cell_type": "code",
   "execution_count": 69,
   "id": "bceba59c",
   "metadata": {
    "scrolled": true
   },
   "outputs": [
    {
     "name": "stdout",
     "output_type": "stream",
     "text": [
      "Accuracy: 0.8487518355359766\n",
      "Classification Report:\n",
      "              precision    recall  f1-score   support\n",
      "\n",
      "    negative       0.89      0.82      0.85      1788\n",
      "    positive       0.81      0.88      0.85      1617\n",
      "\n",
      "    accuracy                           0.85      3405\n",
      "   macro avg       0.85      0.85      0.85      3405\n",
      "weighted avg       0.85      0.85      0.85      3405\n",
      "\n"
     ]
    }
   ],
   "source": [
    "# The following block of code was self-written\n",
    "# Create a TF-IDF vectorizer\n",
    "vectorizer = TfidfVectorizer()\n",
    "X_train_vectorized = vectorizer.fit_transform(X_train)\n",
    "X_test_vectorized = vectorizer.transform(X_test)\n",
    "\n",
    "# Train the Support Vector Machine classifier\n",
    "svmModel = SVC()\n",
    "svmModel.fit(X_train_vectorized, y_train)\n",
    "\n",
    "# Predict the labels for the test set\n",
    "y_pred = svmModel.predict(X_test_vectorized.toarray())\n",
    "\n",
    "# Evaluate the model\n",
    "accuracy = accuracy_score(y_test, y_pred)\n",
    "report = classification_report(y_test, y_pred)\n",
    "print(\"Accuracy:\", accuracy)\n",
    "print(\"Classification Report:\")\n",
    "print(report)"
   ]
  },
  {
   "cell_type": "markdown",
   "id": "e13c187d",
   "metadata": {},
   "source": [
    "## III. Conclusions\n",
    "This section will focus on the Accuracy and Precision of each model and how the vectorizer works with the models.\n",
    "The baseline model, Naive Bayes (NB) will first be compared with each of the classifiers in [2.4 Classification approach](#s9), Logistic Regression (LR), Random Forest Classifier (RF) and Support Vector Machines (SVM)."
   ]
  },
  {
   "cell_type": "markdown",
   "id": "6b1c2562",
   "metadata": {},
   "source": [
    "### 3.1 Evaluation\n",
    "| Classifier                       | Accuracy | Negative Precision (NP) | Positive Precision (PP) |\n",
    "|----------------------------------|----------|-------------------------|-------------------------|\n",
    "| Naive Bayes                      | 0.853    | 0.86                    | 0.85                    |\n",
    "| Logistic Regression (Count)      | 0.855    | 0.84                    | 0.87                    |\n",
    "| Logistic Regression (TF-IDF)     | 0.857    | 0.84                    | 0.88                    |\n",
    "| Random Forest (Count)            | 0.814    | 0.91                    | 0.75                    |\n",
    "| Random Forest (TF-IDF)           | 0.822    | 0.91                    | 0.76                    |\n",
    "| Support Vector Machines (Count)  | 0.851    | 0.82                    | 0.89                    |\n",
    "| Support Vector Machines (TF-IDF) | 0.848    | 0.89                    | 0.81                    |\n",
    "\n",
    "Logistic Regression (LR):\n",
    "- Performs better than NB in Accuracy and PP\n",
    "- Performs worse than NB in NP\n",
    "- LR with Count Vector generally performs worse than TF-IDF Vector\n",
    "\n",
    "Random Forest (RF):\n",
    "- Performs the worst in Accuracy and PP\n",
    "- Performs the best in NP\n",
    "- RF with Count Vector generally performs worse than TF-IDF Vector\n",
    "\n",
    "Support Vector Machines (SVM):\n",
    "- Performs worse than NB in Accuracy\n",
    "- Count Vector performs worse than NB in NP but performs better than NB in PP\n",
    "- TF-IDF Vector performs better than NB in NP but performs worse than NB in PP\n",
    "- SVM has no general grend on which Vector performs better as Count performs better in Accuracy and PP but not NP"
   ]
  },
  {
   "cell_type": "markdown",
   "id": "d99e3055",
   "metadata": {},
   "source": [
    "### 3.2 Summary and conclusions"
   ]
  },
  {
   "cell_type": "markdown",
   "id": "950434fd",
   "metadata": {},
   "source": [
    "## Temporary reference list\n",
    "* to use citation generator\n",
    "\n",
    "- "
   ]
  }
 ],
 "metadata": {
  "kernelspec": {
   "display_name": "Python 3 (ipykernel)",
   "language": "python",
   "name": "python3"
  },
  "language_info": {
   "codemirror_mode": {
    "name": "ipython",
    "version": 3
   },
   "file_extension": ".py",
   "mimetype": "text/x-python",
   "name": "python",
   "nbconvert_exporter": "python",
   "pygments_lexer": "ipython3",
   "version": "3.11.3"
  }
 },
 "nbformat": 4,
 "nbformat_minor": 5
}
